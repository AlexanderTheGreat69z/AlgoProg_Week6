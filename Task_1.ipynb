{
 "cells": [
  {
   "cell_type": "markdown",
   "metadata": {},
   "source": [
    "<h1>Forum Task 1 - Notebook by Alexander L. Myfia</h1>"
   ]
  },
  {
   "cell_type": "markdown",
   "metadata": {},
   "source": [
    "First, We create 3 Dictionaries: lloyd, alice, tyler <br>\n",
    "Each dictionary has 'name', 'homework', 'quizzes', and 'tests' as its keys"
   ]
  },
  {
   "cell_type": "code",
   "execution_count": 11,
   "metadata": {},
   "outputs": [],
   "source": [
    "lloyd = {\n",
    " \"name\"     : \"Lloyd\",\n",
    " \"homework\" : [90.0,97.0,75.0,92.0],\n",
    " \"quizzes\"  : [88.0,40.0,94.0],\n",
    " \"tests\"    : [75.0,90.0]\n",
    "}\n",
    "\n",
    "alice = {\n",
    " \"name\"     : \"Alice\",\n",
    " \"homework\" : [100.0, 92.0, 98.0, 100.0],\n",
    " \"quizzes\"  : [82.0, 83.0, 91.0],\n",
    " \"tests\"    : [89.0, 97.0]\n",
    "}\n",
    "\n",
    "tyler = {\n",
    " \"name\"     : \"Tyler\",\n",
    " \"homework\" : [0.0, 87.0, 75.0, 22.0],\n",
    " \"quizzes\"  : [0.0, 75.0, 78.0],\n",
    " \"tests\"    : [100.0, 100.0]\n",
    "}\n",
    "\n",
    "# Copied from PDF as ordered :D"
   ]
  },
  {
   "cell_type": "markdown",
   "metadata": {},
   "source": [
    "Below your code, create a list called 'students' that contains 'lloyd', 'alice', and 'tyler'.<br>\n",
    "For each student in your students list, print out that student's data as follows:\n",
    "<ul>\n",
    "<li>Print the student's name</li>\n",
    "<li>Print the student's homework score</li>\n",
    "<li>Print the student's quiz score</li>\n",
    "<li>Print the student's test score</li>\n",
    "</ul>"
   ]
  },
  {
   "cell_type": "code",
   "execution_count": 19,
   "metadata": {},
   "outputs": [
    {
     "name": "stdout",
     "output_type": "stream",
     "text": [
      "Name\t\t: Lloyd\n",
      "Homework\t: [90.0, 97.0, 75.0, 92.0]\n",
      "Quiz\t\t: [88.0, 40.0, 94.0]\n",
      "Test\t\t: [75.0, 90.0]\n",
      "\n",
      "Name\t\t: Alice\n",
      "Homework\t: [100.0, 92.0, 98.0, 100.0]\n",
      "Quiz\t\t: [82.0, 83.0, 91.0]\n",
      "Test\t\t: [89.0, 97.0]\n",
      "\n",
      "Name\t\t: Tyler\n",
      "Homework\t: [0.0, 87.0, 75.0, 22.0]\n",
      "Quiz\t\t: [0.0, 75.0, 78.0]\n",
      "Test\t\t: [100.0, 100.0]\n",
      "\n"
     ]
    }
   ],
   "source": [
    "students = [lloyd, alice, tyler]\n",
    "\n",
    "for student in students:\n",
    "    print(f\"Name\\t\\t: {student['name']}\\nHomework\\t: {student['homework']}\\nQuiz\\t\\t: {student['quizzes']}\\nTest\\t\\t: {student['tests']}\\n\")"
   ]
  },
  {
   "cell_type": "markdown",
   "metadata": {},
   "source": [
    "Write a function average that takes a list of numbers and returns the average.\n",
    "<ol>\n",
    "<li>Define a function called average that has one argument, numbers.</li>\n",
    "<li>Inside that function, call the built-in sum() function with the numbers list as a parameter. Store the result in a variable called total.</li>\n",
    "<li>Use float() to convert total and store the result in total.</li>\n",
    "<li>Divide total by the length of the numbers list. Use the built-in len() function to calculate that.</li>\n",
    "<li>Return that result.</li>\n",
    "<ol>"
   ]
  },
  {
   "cell_type": "code",
   "execution_count": 13,
   "metadata": {},
   "outputs": [],
   "source": [
    "def average(numbers):\n",
    "    total = float(sum(numbers))\n",
    "    return total / len(numbers)"
   ]
  },
  {
   "cell_type": "markdown",
   "metadata": {},
   "source": [
    "Write a function called get_average that takes a student dictionary (like lloyd, alice, or tyler) as input and returns his/her weighted average\n",
    "<ol>\n",
    "<li>Define a function called get_average that takes one argument called student.</li>\n",
    "<li>Make a variable homework that stores the average() of student[\"homework\"]</li>\n",
    "<li>Repeat step 2 for \"quizzes\" and \"tests\".</li>\n",
    "<li>Multiply the 3 averages by their weights and return the sum of those three. Homework is 10%, quizzes are 30% and tests are 60%</li>\n",
    "<ol>"
   ]
  },
  {
   "cell_type": "code",
   "execution_count": 14,
   "metadata": {},
   "outputs": [],
   "source": [
    "def get_average(student):\n",
    "    homework = average(student['homework']) * 0.1\n",
    "    quizzes = average(student['quizzes']) * 0.3\n",
    "    tests = average(student['tests']) * 0.6\n",
    "    return homework + quizzes + tests"
   ]
  },
  {
   "cell_type": "markdown",
   "metadata": {},
   "source": [
    "Define a new function called get_letter_grade that has one argument called score. Expect score to be a number. <br>\n",
    "Inside your function, test score using a chain of if: / elif: / else: statements, like so:\n",
    "<ul>\n",
    "<li>If score is 90 or above: return \"A\"</li>\n",
    "<li>Else if score is 80 or above: return \"B\"</li>\n",
    "<li>Else if score is 70 or above: return \"C\"</li>\n",
    "<li>Else if score is 60 or above: return \"D\"</li>\n",
    "<li>Otherwise: return \"F\"</li>\n",
    "</ul>"
   ]
  },
  {
   "cell_type": "code",
   "execution_count": 15,
   "metadata": {},
   "outputs": [],
   "source": [
    "def get_letter_grade(score):\n",
    "    if   score >= 90: return 'A'\n",
    "    elif score >= 80: return 'B'\n",
    "    elif score >= 70: return 'C'\n",
    "    elif score >= 60: return 'D'\n",
    "    else            : return 'F'"
   ]
  },
  {
   "cell_type": "markdown",
   "metadata": {},
   "source": [
    "Define a function called get_class_average that has one argument, students. You can expect students to be a list containing your three students.\n",
    "<ol>\n",
    "<li>First, make an empty list called results.</li>\n",
    "<li>For each student item in the class list, calculate get_average(student) and then call results.append() with that result.</li>\n",
    "<li>Finally, return the result of calling average() with results.</li>\n",
    "</ol>"
   ]
  },
  {
   "cell_type": "code",
   "execution_count": 16,
   "metadata": {},
   "outputs": [],
   "source": [
    "def get_class_average(students):\n",
    "    results = []\n",
    "    for student in students:\n",
    "        results.append(get_average(student))\n",
    "    return average(results)"
   ]
  },
  {
   "cell_type": "markdown",
   "metadata": {},
   "source": [
    "Finally, test your functions.\n",
    "<ul>\n",
    "<li>Call your get_letter_grade function with the result of get_average(lloyd). Print the resulting letter grade.</li>\n",
    "<li>Print out the result of calling get_class_average with your students list. Your students should be [lloyd, alice, tyler].</li>\n",
    "<li>Print the result of get_letter_grade for the class's average.</li>\n",
    "</ul>"
   ]
  },
  {
   "cell_type": "code",
   "execution_count": 18,
   "metadata": {},
   "outputs": [
    {
     "name": "stdout",
     "output_type": "stream",
     "text": [
      "Lloyd Grade\t\t: B\n",
      "The Class Average Score\t: 83.86666666666666\n",
      "The Class Average Grade\t: B\n"
     ]
    }
   ],
   "source": [
    "print('Lloyd Grade\\t\\t:', get_letter_grade(get_average(lloyd)))\n",
    "print('The Class Average Score\\t:', get_class_average(students))\n",
    "print('The Class Average Grade\\t:', get_letter_grade(get_class_average(students)))"
   ]
  }
 ],
 "metadata": {
  "kernelspec": {
   "display_name": "Python 3",
   "language": "python",
   "name": "python3"
  },
  "language_info": {
   "codemirror_mode": {
    "name": "ipython",
    "version": 3
   },
   "file_extension": ".py",
   "mimetype": "text/x-python",
   "name": "python",
   "nbconvert_exporter": "python",
   "pygments_lexer": "ipython3",
   "version": "3.10.11"
  }
 },
 "nbformat": 4,
 "nbformat_minor": 2
}
