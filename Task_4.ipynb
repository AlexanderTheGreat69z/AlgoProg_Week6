{
 "cells": [
  {
   "cell_type": "markdown",
   "metadata": {},
   "source": [
    "<h1>Forum Task 4 - Notebook by Alexander L. Myfia</h1>"
   ]
  },
  {
   "cell_type": "markdown",
   "metadata": {},
   "source": [
    "Write a program that stores morse code list in a tuple.<br>\n",
    "The program should ask the user to enter a string, and then converts that string to Morse code.<br>\n",
    "Use a for loop to iterate over the string. The loop should include a nested if-elif-else structure to compare each character to an index position in the tuple.<br>\n",
    "Finally, the program should then print each character (using the referenced index) in morse code.<br>"
   ]
  },
  {
   "cell_type": "code",
   "execution_count": null,
   "metadata": {},
   "outputs": [],
   "source": [
    "#Initialize morse dictionary in a form of tuple (dont know why we can't use dictionaries instead but alright then... challenge accepted)\n",
    "morse_dict = (\n",
    "    (' ', ' '),\n",
    "    (',', '--..--'),\n",
    "    ('?', '.-.-.-'),\n",
    "\n",
    "    ('0','-----'),\n",
    "    ('1','.----'),\n",
    "    ('2','..---'),\n",
    "    ('3','...--'),\n",
    "    ('4','....-'),\n",
    "    ('5','.....'),\n",
    "    ('6','-....'),\n",
    "    ('7','--...'),\n",
    "    ('8','---..'),\n",
    "    ('9','----.'),\n",
    "\n",
    "    ('A','.-'),\n",
    "    ('B','-...'),\n",
    "    ('C','-.-.'),\n",
    "    ('D','-..'),\n",
    "    ('E','.'),\n",
    "    ('F','..-.'),\n",
    "    ('G','--.'),\n",
    "    ('H','....'),\n",
    "    ('I','..'),\n",
    "    ('J','.---'),\n",
    "    ('K','-.-'),\n",
    "    ('L','.-..'),\n",
    "    ('M','--'),\n",
    "    ('N','-.'),\n",
    "    ('O','---'),\n",
    "    ('P','.---.'),\n",
    "    ('Q','--.-'),\n",
    "    ('R','.-.'),\n",
    "    ('S','...'),\n",
    "    ('T','-'),\n",
    "    ('U','..-'),\n",
    "    ('V','...-'),\n",
    "    ('W','.--'),\n",
    "    ('X','-..-'),\n",
    "    ('Y','-.--'),\n",
    "    ('Z','--..'),\n",
    ")\n",
    "\n",
    "# Prompt for text\n",
    "string = input('Type anything here: ')\n",
    "\n",
    "# Initialize string variable with nothing in it\n",
    "morse = ''\n",
    "\n",
    "# Compares each letter in the uppercased string with the dictionary tuple\n",
    "# If it matches to first element of some tuple (Letter to be defined), concatenate 'morse' with second element of tuple (Letter in morse)\n",
    "for letter in string.upper():\n",
    "    for i in range(len(morse_dict)):\n",
    "        if letter == morse_dict[i][0]:\n",
    "            morse += morse_dict[i][1]\n",
    "\n",
    "# Outputs user input and morse code result\n",
    "print(f'Your text: {string}')\n",
    "print(f'Morse code: {morse}')"
   ]
  }
 ],
 "metadata": {
  "kernelspec": {
   "display_name": "Python 3",
   "language": "python",
   "name": "python3"
  },
  "language_info": {
   "codemirror_mode": {
    "name": "ipython",
    "version": 3
   },
   "file_extension": ".py",
   "mimetype": "text/x-python",
   "name": "python",
   "nbconvert_exporter": "python",
   "pygments_lexer": "ipython3",
   "version": "3.10.11"
  }
 },
 "nbformat": 4,
 "nbformat_minor": 2
}
