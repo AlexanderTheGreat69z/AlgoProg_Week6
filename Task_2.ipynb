{
 "cells": [
  {
   "cell_type": "markdown",
   "metadata": {},
   "source": [
    "<h1>Forum Task 2 - Notebook by Alexander L. Myfia</h1>"
   ]
  },
  {
   "cell_type": "markdown",
   "metadata": {},
   "source": [
    "Write a program that creates a tuple for the following course numbers: \n",
    "<ol>\n",
    "<li>COP 2510</li>\n",
    "<li>EGN 3000L</li>\n",
    "<li>MAC 2281</li>\n",
    "<li>MUH 3016</li>\n",
    "<li>PHY 2048</li>\n",
    "</ol>"
   ]
  },
  {
   "cell_type": "code",
   "execution_count": 1,
   "metadata": {},
   "outputs": [],
   "source": [
    "course_numbers = ('COP 2510', 'EGN 3000L', 'MAC 2281', 'MUH 3016', 'PHY 2048')"
   ]
  },
  {
   "cell_type": "markdown",
   "metadata": {},
   "source": [
    "Use the tuple as keys for the following dictionaries:\n",
    "<ol>\n",
    "    <li>\n",
    "        The first dictionary should have the following key value pairs\n",
    "        <table style='margin:20px'>\n",
    "            <tr>\n",
    "                <th>Course Numbers</th>\n",
    "                <th>Course Name</th>\n",
    "            </tr>\n",
    "            <tr>\n",
    "                <td>COP 2510</td>\n",
    "                <td>Programming Concepts</td>\n",
    "            </tr>\n",
    "            <tr>\n",
    "                <td>EGN 3000L</td>\n",
    "                <td>Foundations of Engineering Lab</td>\n",
    "            </tr>\n",
    "            <tr>\n",
    "                <td>MAC 2281</td>\n",
    "                <td>Calculus I</td>\n",
    "            </tr>\n",
    "            <tr>\n",
    "                <td>MUH 3016</td>\n",
    "                <td>Survey of Jazz</td>\n",
    "            </tr>\n",
    "            <tr>\n",
    "                <td>PHY 2048</td>\n",
    "                <td>General Physics I</td>\n",
    "            </tr>\n",
    "        </table>\n",
    "    </li>\n",
    "    <li>\n",
    "        The second dictionary should have the following key value pairs\n",
    "        <table style='margin:20px'>\n",
    "            <tr>\n",
    "                <th>Course Numbers</th>\n",
    "                <th>Instructor</th>\n",
    "            </tr>\n",
    "            <tr>\n",
    "                <td>COP 2510</td>\n",
    "                <td>Z. Beasley</td>\n",
    "            </tr>\n",
    "            <tr>\n",
    "                <td>EGN 3000L</td>\n",
    "                <td>J. Anderson</td>\n",
    "            </tr>\n",
    "            <tr>\n",
    "                <td>MAC 2281</td>\n",
    "                <td>A. Makaryus</td>\n",
    "            </tr>\n",
    "            <tr>\n",
    "                <td>MUH 3016</td>\n",
    "                <td>A. Wilkins</td>\n",
    "            </tr>\n",
    "            <tr>\n",
    "                <td>PHY 2048</td>\n",
    "                <td>G. Pradhan</td>\n",
    "            </tr>\n",
    "        </table>\n",
    "    </li>\n",
    "    <li>\n",
    "        The third dictionary should have the following key value pairs\n",
    "        <table style='margin:20px'>\n",
    "            <tr>\n",
    "                <th>Course Numbers</th>\n",
    "                <th>Class Times</th>\n",
    "            </tr>\n",
    "            <tr>\n",
    "                <td>COP 2510</td>\n",
    "                <td>MW 12:30pm – 1:45pm</td>\n",
    "            </tr>\n",
    "            <tr>\n",
    "                <td>EGN 3000L</td>\n",
    "                <td>TR 11:00am – 12:15pm</td>\n",
    "            </tr>\n",
    "            <tr>\n",
    "                <td>MAC 2281</td>\n",
    "                <td>MW 9:30am – 10:45am</td>\n",
    "            </tr>\n",
    "            <tr>\n",
    "                <td>MUH 3016</td>\n",
    "                <td>Online Asynchronous</td>\n",
    "            </tr>\n",
    "            <tr>\n",
    "                <td>PHY 2048</td>\n",
    "                <td>TR 5:00pm – 6:15pm</td>\n",
    "            </tr>\n",
    "        </table>\n",
    "    </li>\n",
    "</ol>"
   ]
  },
  {
   "cell_type": "code",
   "execution_count": null,
   "metadata": {},
   "outputs": [],
   "source": [
    "course_names        = ['Programming Concepts', 'Foundations of Engineering Lab', 'Calculus I', 'Survey of Jazz', 'General Physics I']\n",
    "instructor_names    = ['Z. Beasley', 'J. Anderson', 'A. Makaryus', 'A. Wilkins', 'G. Pradhan']\n",
    "class_times         = ['MW 12:30pm – 1:45pm', 'TR 11:00am – 12:15pm', 'MW 9:30am – 10:45am', 'Online Asynchronous', 'TR 5:00pm – 6:15pm']\n",
    "\n",
    "course_database = {}\n",
    "instructor_database = {}\n",
    "schedule_database = {}\n",
    "\n",
    "for x in range(len(course_numbers)):\n",
    "    course_database[course_numbers[x]] = course_names[x]\n",
    "    instructor_database[course_numbers[x]] = instructor_names[x]\n",
    "    schedule_database[course_numbers[x]] = class_times[x]"
   ]
  },
  {
   "cell_type": "markdown",
   "metadata": {},
   "source": [
    "The program should let the user enter a course number and, if the course is in the dictionary, it should display all of the course information.<br>\n",
    "Otherwise, the program should display a message indicating that the course can’t be found."
   ]
  },
  {
   "cell_type": "code",
   "execution_count": null,
   "metadata": {},
   "outputs": [],
   "source": [
    "input_course = input('Please input your course number: ')\n",
    "if input_course in course_numbers:\n",
    "    print(f'Course {input_course}')\n",
    "    print('--------------------')\n",
    "    print(f'Course Name\\t: {course_database[input_course]}\\nInstructor\\t: {instructor_database[input_course]}\\nClass Time\\t: {schedule_database[input_course]}\\n')\n",
    "else:\n",
    "    print('Error: course not found')"
   ]
  }
 ],
 "metadata": {
  "kernelspec": {
   "display_name": "Python 3",
   "language": "python",
   "name": "python3"
  },
  "language_info": {
   "codemirror_mode": {
    "name": "ipython",
    "version": 3
   },
   "file_extension": ".py",
   "mimetype": "text/x-python",
   "name": "python",
   "nbconvert_exporter": "python",
   "pygments_lexer": "ipython3",
   "version": "3.10.11"
  }
 },
 "nbformat": 4,
 "nbformat_minor": 2
}
