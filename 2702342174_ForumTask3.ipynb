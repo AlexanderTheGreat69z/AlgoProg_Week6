{
 "cells": [
  {
   "cell_type": "markdown",
   "metadata": {},
   "source": [
    "<h1>Forum Task 3 - Notebook by Alexander L. Myfia</h1>"
   ]
  },
  {
   "cell_type": "markdown",
   "metadata": {},
   "source": [
    "<h3>Write a program that stores the days of the week in a tuple.</h3>\n",
    "The program should use a loop to prompt the user to enter the retail store’s sales for a week.<br><br>\n",
    "The data should be stored in a list and use list functions to:\n",
    "<ul>\n",
    "<li>Calculate the total sales of the week</li>\n",
    "<li>Indicate the minimum and maximum sales amount</li>\n",
    "</ul>\n",
    "Use input validation to ensure that entered values are greater than or equal to 0.<br>\n",
    "\n",
    "<b>Notes:</b>\n",
    "<ul>\n",
    "<li>Make sure the currency is formatted appropriately (i.e. use two decimal places, as well as comma separation)</li>\n",
    "<li>Make sure to reference the appropriate day in the tuple when you request your input. String concatenation can help you add the value in the tuple to your input string.</li>\n",
    "</ul>"
   ]
  },
  {
   "cell_type": "code",
   "execution_count": null,
   "metadata": {},
   "outputs": [],
   "source": [
    "# Initialize days of the week in a tuple and an empty list of sales which will be filled with user input integers later on\n",
    "days = ('Monday', 'Tuesday', 'Wednesday', 'Thursday', 'Friday', 'Saturday', 'Sunday')\n",
    "sales = []\n",
    "\n",
    "# Function to format input to two-decimal places\n",
    "def format_decimal(n):\n",
    "    if '.' in n:\n",
    "        decimalPos = n.index('.')\n",
    "        if len(n[decimalPos+1:]) < 2 or n[decimalPos+1] == '0':\n",
    "            return n + '0'\n",
    "        else:\n",
    "            return n\n",
    "    else:\n",
    "        return n + '.00'\n",
    "\n",
    "# For each day of the week, User is prompted to input the number of sales on that day\n",
    "# If the input is invalid, the interface string changes and it keeps prompting untill it receives a proper input\n",
    "for day in days:\n",
    "\n",
    "    # Initialize loop counter and initial start of the prompting loop\n",
    "    loop = 0\n",
    "    ask = True\n",
    "\n",
    "    while ask:\n",
    "\n",
    "        # If the user is prompted more than once, it is considered to have encountered an error once, interface string changes\n",
    "        # Otherwise, input interface is default\n",
    "        if loop == 0: interface = f'Enter the sales for {day}: $'\n",
    "        else: interface = f'Invalid Input, Please enter the sales for {day}: $'\n",
    "\n",
    "        # Prompts user to input the sales amount on that day\n",
    "        money = eval(input(interface))\n",
    "\n",
    "        # Checks if the input is an integer or float and is non-negative\n",
    "        # If it is valid, the value is appended to the 'sales' list, printed in terminal, and breaks loop\n",
    "        if (isinstance(money, int) or isinstance(money, float)) and money >= 0 :\n",
    "            sales.append(money)\n",
    "            print(f\"Sales amount on {day}: ${format_decimal(f'{money:,}')}\")\n",
    "            ask = False\n",
    "        \n",
    "        # If input fails validation, loop continues, and loop counter increases, changing the interface string\n",
    "        else:\n",
    "            loop += 1\n",
    "\n",
    "# Once the 'sales' list is completely filled, this part outputs the total of all sales in list, the smallest, and the largest amount of sales followed by the day of the sales\n",
    "print('--------------------------------')\n",
    "print(f\"Total Sales\\t: ${format_decimal(f'{sum(sales):,}')}\\nMinimum Sale\\t: ${format_decimal(f'{min(sales):,}')} at {days[sales.index(min(sales))]}\\nMaximum Sale\\t: ${format_decimal(f'{max(sales):,}')} at {days[sales.index(max(sales))]}\\n\")"
   ]
  }
 ],
 "metadata": {
  "kernelspec": {
   "display_name": "Python 3",
   "language": "python",
   "name": "python3"
  },
  "language_info": {
   "codemirror_mode": {
    "name": "ipython",
    "version": 3
   },
   "file_extension": ".py",
   "mimetype": "text/x-python",
   "name": "python",
   "nbconvert_exporter": "python",
   "pygments_lexer": "ipython3",
   "version": "3.10.11"
  }
 },
 "nbformat": 4,
 "nbformat_minor": 2
}
